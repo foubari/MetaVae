{
 "cells": [
  {
   "cell_type": "markdown",
   "id": "8f252a7d-7fbc-4b77-9400-cf803eaca5a1",
   "metadata": {},
   "source": [
    "# Imports"
   ]
  },
  {
   "cell_type": "code",
   "execution_count": 2,
   "id": "2186a73d-4746-4833-915c-851343d366ab",
   "metadata": {},
   "outputs": [],
   "source": [
    "import os\n",
    "import sys\n",
    "sys.path.append(os.path.abspath('..'))"
   ]
  },
  {
   "cell_type": "code",
   "execution_count": 3,
   "id": "d01cb9ed-6010-434d-af58-6eab8ca7df15",
   "metadata": {},
   "outputs": [],
   "source": [
    "import numpy as np\n",
    "from tqdm import tqdm\n",
    "import torch\n",
    "from src.models.early_stoppers import EarlyStopper\n",
    "from src.models.meta.vanilla_vae import Vanilla_VAE\n",
    "from src.models.meta.vanilla_gan import Vanilla_GAN\n",
    "from src.models.meta.meta_vae import Meta_VAE\n",
    "from src.models.meta.smvae import SMVAE\n",
    "from src.models.marginals.vae import VAE\n",
    "from src.dataset.meta_dataloaders import DataModule as metaDm\n",
    "from src.dataset.marginal_dataloaders import DataModule as marginalDm"
   ]
  },
  {
   "cell_type": "code",
   "execution_count": 18,
   "id": "5069ba5b",
   "metadata": {},
   "outputs": [
    {
     "name": "stdout",
     "output_type": "stream",
     "text": [
      "torch.Size([2, 60])\n"
     ]
    }
   ],
   "source": [
    "# How to use the dataloader\n",
    "dm = marginalDm()\n",
    "dm.setup()\n",
    "train_dataloader = dm.train_dataloader()\n",
    "print(next(iter(train_dataloader))[0].shape)"
   ]
  },
  {
   "cell_type": "code",
   "execution_count": 4,
   "id": "2cd9f935-804d-4cad-86d0-a520c463f9dd",
   "metadata": {},
   "outputs": [],
   "source": [
    "device = torch.device(\"cuda\" if torch.cuda.is_available() else \"cpu\")"
   ]
  },
  {
   "cell_type": "markdown",
   "id": "5b7e263a-c749-44ad-b782-15ac54bf2ec7",
   "metadata": {},
   "source": [
    "# Some useful functions"
   ]
  },
  {
   "cell_type": "code",
   "execution_count": 5,
   "id": "dcae8fa3-4498-487b-9a97-f834551318c6",
   "metadata": {},
   "outputs": [],
   "source": [
    "def get_early_stopper(patience = 100, delta = 0):\n",
    "    return EarlyStopper(patience=patience,min_delta=delta)"
   ]
  },
  {
   "cell_type": "code",
   "execution_count": 6,
   "id": "4a6c1c96-3a67-4835-8b71-a258392e46a6",
   "metadata": {},
   "outputs": [],
   "source": [
    "def get_optimizer(model,lr,with_scheduler = True):\n",
    "    optimizer=torch.optim.Adam(model.parameters(),lr=lr)\n",
    "    scheduler = None\n",
    "    if with_scheduler:\n",
    "        scheduler = torch.optim.lr_scheduler.ReduceLROnPlateau(optimizer, mode='min', factor=0.4, patience=5, threshold=0.001, \n",
    "                                                       threshold_mode='rel', cooldown=0, min_lr=0, eps=1e-08, verbose=False)\n",
    "    return optimizer, scheduler"
   ]
  },
  {
   "cell_type": "code",
   "execution_count": 7,
   "id": "7efcb2ae-f96c-455c-9efd-31c39fbfd6b9",
   "metadata": {},
   "outputs": [],
   "source": [
    "def not_trainable(model):\n",
    "    for param in model.parameters():\n",
    "        param.requires_grad = False"
   ]
  },
  {
   "cell_type": "markdown",
   "id": "dc4b5cc7-5365-4fb3-a76a-8f96d1a88c78",
   "metadata": {},
   "source": [
    "# Models"
   ]
  },
  {
   "cell_type": "code",
   "execution_count": 8,
   "id": "069edfa1-6f60-49a7-baea-f77683046a95",
   "metadata": {},
   "outputs": [],
   "source": [
    "save_path = os.path.join(os.path.abspath('..'),\"saved_models\")"
   ]
  },
  {
   "cell_type": "code",
   "execution_count": 9,
   "id": "9a0261a0-a881-4972-b9ba-5ff9eabd0054",
   "metadata": {},
   "outputs": [],
   "source": [
    "models_repos = {\"Marginal VAE\": os.path.join(save_path,\"marginal_generators\"),\n",
    "                \"Meta-VAE\": os.path.join(save_path,\"meta_vae\"),\n",
    "                \"SMVAE\": os.path.join(save_path,\"smvae\"),\n",
    "                \"Vanilla VAE\": os.path.join(save_path,\"vanilla_vae\",\"fair\"),\n",
    "                 \"Vanilla GAN\": os.path.join(save_path,\"vanilla_gan\")\n",
    "               }"
   ]
  },
  {
   "cell_type": "markdown",
   "id": "3903c4dc-84fe-4c4f-9e82-daf0d2c7727b",
   "metadata": {
    "tags": []
   },
   "source": [
    "# Train models"
   ]
  },
  {
   "cell_type": "code",
   "execution_count": 11,
   "id": "56fdf051-1ec7-4ff4-a379-5d8830ab0d6d",
   "metadata": {},
   "outputs": [],
   "source": [
    "# The  models default values correspond to the ones used in the paper's experiments\n",
    "\n",
    "def train_models(model_type, n=5, batch_size = 2048*2, epochs = 1000, lr=None, is_cylinder = None, verbose=False, with_scheduler=False,\n",
    "                 with_early_stopper=False, with_validation=False):\n",
    "    \n",
    "    device = \"cuda:0\" if torch.cuda.is_available() else \"cpu\"\n",
    "    \n",
    "    assert model_type in models_repos, 'Model type unrecognized'\n",
    "    \n",
    "    if model_type == \"Marginal VAE\":\n",
    "        assert is_cylinder!=None, 'Choose a unitary component for the marginal generator training, True for cylinders, False for densities'\n",
    "        unitary_component = \"cylinders\" if is_cylinder else \"densities\"\n",
    "        n=1\n",
    "        \n",
    "    ## Default learning rate if not explicitly specified, for the GAN, lr=0.0002 specified below\n",
    "    if not lr:\n",
    "        lr = 0.001\n",
    "        \n",
    "    for i in range(n):\n",
    "        if model_type == \"Marginal VAE\":\n",
    "            dm = marginalDm(is_cylinder = is_cylinder, batch_size=batch_size)\n",
    "            n=1 # We only train once to use the model as marginal generator, comment to train n times and save the n models\n",
    "            if is_cylinder:  # Specify the input size of the model depending on whether we train for densities or cylinders marginals\n",
    "                model = VAE()\n",
    "            else:\n",
    "                model = VAE(latent_dim = 1, data_size = 30) # Change depending on the size\n",
    "                \n",
    "        elif model_type == \"Meta-VAE\":\n",
    "            dm = metaDm(batch_size=batch_size)\n",
    "            model = Meta_VAE()\n",
    "        elif model_type == \"SMVAE\":\n",
    "            dm = metaDm()\n",
    "            model = SMVAE()\n",
    "        elif model_type == \"Vanilla VAE\" :\n",
    "            dm = metaDm(whole_system=True,batch_size=batch_size)\n",
    "            # The following values are chosen to make the vanilla vae comparable in size (number of parameters) to the\n",
    "            # meta vae, however with fewer parameters (default values) we get comparable results cf paper.\n",
    "            model = Vanilla_VAE(n_params=100)\n",
    "        else:\n",
    "            dm = metaDm(whole_system=True,batch_size=batch_size)\n",
    "            model = Vanilla_GAN(n_params=100)\n",
    "        \n",
    "        dm.setup()\n",
    "        train_dataloader = dm.train_dataloader()\n",
    "        \n",
    "        if model_type != \"Vanilla GAN\":\n",
    "            val_dataloader = dm.val_dataloader() if with_validation else None\n",
    "            optimizer, scheduler  =  get_optimizer(model,lr, with_scheduler) \n",
    "            early_stopper = get_early_stopper() if with_early_stopper else None\n",
    "        \n",
    "        if model_type == \"Meta-VAE\":\n",
    "            marginals_path = os.path.join(os.path.abspath('..'),'saved_models','marginal_generators')\n",
    "            density_vae = torch.load(os.path.join(marginals_path,'densities','model_0'), map_location=device)\n",
    "            cylinder_vae = torch.load(os.path.join(marginals_path,'cylinders','model_0'), map_location=device)\n",
    "            not_trainable(density_vae)\n",
    "            not_trainable(cylinder_vae)\n",
    "            model.train(epochs,train_dataloader,density_vae,cylinder_vae,device,optimizer,scheduler,early_stopper,val_dataloader,verbose=verbose)\n",
    "        elif model_type == \"Vanilla GAN\":\n",
    "            lr = 0.0002\n",
    "            optim_g, optim_d  =  get_optimizer(model.gen, lr)[0], get_optimizer(model.disc, lr)[0]\n",
    "            model.train(epochs, train_dataloader, device, optim_g, optim_d)\n",
    "        else:\n",
    "            model.train(epochs, train_dataloader, device, optimizer,scheduler,early_stopper,val_dataloader,verbose=verbose)\n",
    "        \n",
    "        save_path = models_repos[model_type]\n",
    "        \n",
    "        if model_type == \"Marginal VAE\":\n",
    "            save_path = os.path.join(models_repos[model_type],unitary_component)\n",
    "        save_path = os.path.join(save_path,'model_{}'.format(i))\n",
    "        torch.save(model,save_path)\n",
    "            "
   ]
  },
  {
   "cell_type": "markdown",
   "id": "c61601af-0597-4077-b93f-bfaff8be2c76",
   "metadata": {},
   "source": [
    "### Train the Meta-VAE and Baselines"
   ]
  },
  {
   "cell_type": "markdown",
   "id": "58e8f2c6-45e9-4676-8f24-6ea9c3349e77",
   "metadata": {},
   "source": [
    "The default values correspond to the paper's experiments section. Aside from the Vanilla VAE and GAN. The saved Vanilla VAE/GAN models in the \"fair\" folders corrspond to models that have comparable number of parameters as the Meta-VAE ans the SMVAE. The paper parameters correspond to the saved models in the \"paper_params\" folders."
   ]
  },
  {
   "cell_type": "code",
   "execution_count": 18,
   "id": "bc9c1220-3a48-46cc-b70d-daae9b05711f",
   "metadata": {},
   "outputs": [],
   "source": [
    "train_models(\"Vanilla GAN\",epochs=1000,batch_size=512)"
   ]
  },
  {
   "cell_type": "code",
   "execution_count": 11,
   "id": "b7a7749b-7ace-4ed4-a974-ffdd77759fcc",
   "metadata": {},
   "outputs": [],
   "source": [
    "train_models(\"Vanilla VAE\",epochs=1000)"
   ]
  },
  {
   "cell_type": "code",
   "execution_count": 12,
   "id": "77fe9916-498d-48d9-9568-1b0549634b0f",
   "metadata": {},
   "outputs": [
    {
     "name": "stderr",
     "output_type": "stream",
     "text": [
      "  1%|          | 7/1000 [01:36<3:47:46, 13.76s/it]\n"
     ]
    },
    {
     "ename": "KeyboardInterrupt",
     "evalue": "",
     "output_type": "error",
     "traceback": [
      "\u001b[1;31m---------------------------------------------------------------------------\u001b[0m",
      "\u001b[1;31mKeyboardInterrupt\u001b[0m                         Traceback (most recent call last)",
      "\u001b[1;32mc:\\Users\\e020199\\Desktop\\projects\\git_code\\notebooks\\train_models copy.ipynb Cell 18\u001b[0m line \u001b[0;36m<cell line: 1>\u001b[1;34m()\u001b[0m\n\u001b[1;32m----> <a href='vscode-notebook-cell:/c%3A/Users/e020199/Desktop/projects/git_code/notebooks/train_models%20copy.ipynb#X23sZmlsZQ%3D%3D?line=0'>1</a>\u001b[0m train_models(\u001b[39m\"\u001b[39;49m\u001b[39mMeta-VAE\u001b[39;49m\u001b[39m\"\u001b[39;49m,epochs\u001b[39m=\u001b[39;49m\u001b[39m1000\u001b[39;49m)\n",
      "\u001b[1;32mc:\\Users\\e020199\\Desktop\\projects\\git_code\\notebooks\\train_models copy.ipynb Cell 18\u001b[0m line \u001b[0;36mtrain_models\u001b[1;34m(model_type, n, batch_size, epochs, lr, is_cylinder, verbose, with_scheduler, with_early_stopper, with_validation)\u001b[0m\n\u001b[0;32m     <a href='vscode-notebook-cell:/c%3A/Users/e020199/Desktop/projects/git_code/notebooks/train_models%20copy.ipynb#X23sZmlsZQ%3D%3D?line=52'>53</a>\u001b[0m     not_trainable(density_vae)\n\u001b[0;32m     <a href='vscode-notebook-cell:/c%3A/Users/e020199/Desktop/projects/git_code/notebooks/train_models%20copy.ipynb#X23sZmlsZQ%3D%3D?line=53'>54</a>\u001b[0m     not_trainable(cylinder_vae)\n\u001b[1;32m---> <a href='vscode-notebook-cell:/c%3A/Users/e020199/Desktop/projects/git_code/notebooks/train_models%20copy.ipynb#X23sZmlsZQ%3D%3D?line=54'>55</a>\u001b[0m     model\u001b[39m.\u001b[39;49mtrain(epochs,train_dataloader,density_vae,cylinder_vae,device,optimizer,scheduler,early_stopper,val_dataloader,verbose\u001b[39m=\u001b[39;49mverbose)\n\u001b[0;32m     <a href='vscode-notebook-cell:/c%3A/Users/e020199/Desktop/projects/git_code/notebooks/train_models%20copy.ipynb#X23sZmlsZQ%3D%3D?line=55'>56</a>\u001b[0m \u001b[39melif\u001b[39;00m model_type \u001b[39m==\u001b[39m \u001b[39m\"\u001b[39m\u001b[39mVanilla GAN\u001b[39m\u001b[39m\"\u001b[39m:\n\u001b[0;32m     <a href='vscode-notebook-cell:/c%3A/Users/e020199/Desktop/projects/git_code/notebooks/train_models%20copy.ipynb#X23sZmlsZQ%3D%3D?line=56'>57</a>\u001b[0m     lr \u001b[39m=\u001b[39m \u001b[39m0.0002\u001b[39m\n",
      "File \u001b[1;32mc:\\Users\\e020199\\Desktop\\projects\\git_code\\src\\models\\meta\\meta_vae.py:164\u001b[0m, in \u001b[0;36mMeta_VAE.train\u001b[1;34m(self, epochs, train_dataloader, density_vae, cylinder_vae, device, optimizer, scheduler, early_stopper, val_dataloader, verbose)\u001b[0m\n\u001b[0;32m    161\u001b[0m     kl_epoch_losses\u001b[39m.\u001b[39mappend(kl_loss\u001b[39m.\u001b[39mitem())\n\u001b[0;32m    163\u001b[0m     optimizer\u001b[39m.\u001b[39mzero_grad()\n\u001b[1;32m--> 164\u001b[0m     loss\u001b[39m.\u001b[39;49mbackward()\n\u001b[0;32m    165\u001b[0m     optimizer\u001b[39m.\u001b[39mstep()\n\u001b[0;32m    168\u001b[0m losses\u001b[39m.\u001b[39mappend(np\u001b[39m.\u001b[39mmean(epoch_losses))\n",
      "File \u001b[1;32mc:\\Bib\\envs\\gnn_mmvae\\lib\\site-packages\\torch\\_tensor.py:396\u001b[0m, in \u001b[0;36mTensor.backward\u001b[1;34m(self, gradient, retain_graph, create_graph, inputs)\u001b[0m\n\u001b[0;32m    387\u001b[0m \u001b[39mif\u001b[39;00m has_torch_function_unary(\u001b[39mself\u001b[39m):\n\u001b[0;32m    388\u001b[0m     \u001b[39mreturn\u001b[39;00m handle_torch_function(\n\u001b[0;32m    389\u001b[0m         Tensor\u001b[39m.\u001b[39mbackward,\n\u001b[0;32m    390\u001b[0m         (\u001b[39mself\u001b[39m,),\n\u001b[1;32m   (...)\u001b[0m\n\u001b[0;32m    394\u001b[0m         create_graph\u001b[39m=\u001b[39mcreate_graph,\n\u001b[0;32m    395\u001b[0m         inputs\u001b[39m=\u001b[39minputs)\n\u001b[1;32m--> 396\u001b[0m torch\u001b[39m.\u001b[39;49mautograd\u001b[39m.\u001b[39;49mbackward(\u001b[39mself\u001b[39;49m, gradient, retain_graph, create_graph, inputs\u001b[39m=\u001b[39;49minputs)\n",
      "File \u001b[1;32mc:\\Bib\\envs\\gnn_mmvae\\lib\\site-packages\\torch\\autograd\\__init__.py:173\u001b[0m, in \u001b[0;36mbackward\u001b[1;34m(tensors, grad_tensors, retain_graph, create_graph, grad_variables, inputs)\u001b[0m\n\u001b[0;32m    168\u001b[0m     retain_graph \u001b[39m=\u001b[39m create_graph\n\u001b[0;32m    170\u001b[0m \u001b[39m# The reason we repeat same the comment below is that\u001b[39;00m\n\u001b[0;32m    171\u001b[0m \u001b[39m# some Python versions print out the first line of a multi-line function\u001b[39;00m\n\u001b[0;32m    172\u001b[0m \u001b[39m# calls in the traceback and some print out the last line\u001b[39;00m\n\u001b[1;32m--> 173\u001b[0m Variable\u001b[39m.\u001b[39;49m_execution_engine\u001b[39m.\u001b[39;49mrun_backward(  \u001b[39m# Calls into the C++ engine to run the backward pass\u001b[39;49;00m\n\u001b[0;32m    174\u001b[0m     tensors, grad_tensors_, retain_graph, create_graph, inputs,\n\u001b[0;32m    175\u001b[0m     allow_unreachable\u001b[39m=\u001b[39;49m\u001b[39mTrue\u001b[39;49;00m, accumulate_grad\u001b[39m=\u001b[39;49m\u001b[39mTrue\u001b[39;49;00m)\n",
      "\u001b[1;31mKeyboardInterrupt\u001b[0m: "
     ]
    }
   ],
   "source": [
    "train_models(\"Meta-VAE\",epochs=1000)"
   ]
  },
  {
   "cell_type": "code",
   "execution_count": 11,
   "id": "4b338671-f1ba-4582-b798-e31979efb2fa",
   "metadata": {},
   "outputs": [
    {
     "name": "stderr",
     "output_type": "stream",
     "text": [
      "100%|██████████| 1500/1500 [22:30<00:00,  1.11it/s]\n",
      "100%|██████████| 1500/1500 [22:19<00:00,  1.12it/s]\n",
      "100%|██████████| 1500/1500 [22:07<00:00,  1.13it/s]\n",
      "100%|██████████| 1500/1500 [21:50<00:00,  1.14it/s]\n",
      "100%|██████████| 1500/1500 [21:54<00:00,  1.14it/s]\n"
     ]
    }
   ],
   "source": [
    "train_models(\"SMVAE\",epochs=1500)"
   ]
  },
  {
   "cell_type": "markdown",
   "id": "b266a0ad-037c-4a05-901a-f4ff8a6ad6ef",
   "metadata": {},
   "source": [
    "### Train the marginal VAEs. \n",
    "Bigger batch sizes (BS) result in poorer results. The saved models were trained using BS=1024"
   ]
  },
  {
   "cell_type": "markdown",
   "id": "f0551519",
   "metadata": {},
   "source": [
    "Density VAE"
   ]
  },
  {
   "cell_type": "code",
   "execution_count": 12,
   "id": "076c513e-b267-4dac-834d-3dd5fca92eb3",
   "metadata": {},
   "outputs": [
    {
     "name": "stderr",
     "output_type": "stream",
     "text": [
      "  0%|          | 1/1000 [00:00<04:14,  3.92it/s]"
     ]
    },
    {
     "name": "stdout",
     "output_type": "stream",
     "text": [
      "loss  25.773477840423585\n"
     ]
    },
    {
     "name": "stderr",
     "output_type": "stream",
     "text": [
      "  0%|          | 2/1000 [00:00<04:12,  3.96it/s]"
     ]
    },
    {
     "name": "stdout",
     "output_type": "stream",
     "text": [
      "loss  25.378363418579102\n"
     ]
    },
    {
     "name": "stderr",
     "output_type": "stream",
     "text": [
      "  0%|          | 3/1000 [00:00<04:23,  3.78it/s]"
     ]
    },
    {
     "name": "stdout",
     "output_type": "stream",
     "text": [
      "loss  24.892875003814698\n"
     ]
    },
    {
     "name": "stderr",
     "output_type": "stream",
     "text": [
      "  0%|          | 4/1000 [00:01<04:24,  3.77it/s]"
     ]
    },
    {
     "name": "stdout",
     "output_type": "stream",
     "text": [
      "loss  24.032931327819824\n"
     ]
    },
    {
     "name": "stderr",
     "output_type": "stream",
     "text": [
      "  0%|          | 5/1000 [00:01<04:37,  3.59it/s]"
     ]
    },
    {
     "name": "stdout",
     "output_type": "stream",
     "text": [
      "loss  22.229809761047363\n"
     ]
    },
    {
     "name": "stderr",
     "output_type": "stream",
     "text": [
      "  1%|          | 6/1000 [00:01<04:38,  3.57it/s]"
     ]
    },
    {
     "name": "stdout",
     "output_type": "stream",
     "text": [
      "loss  16.662148666381835\n"
     ]
    },
    {
     "name": "stderr",
     "output_type": "stream",
     "text": [
      "  1%|          | 7/1000 [00:01<04:37,  3.58it/s]"
     ]
    },
    {
     "name": "stdout",
     "output_type": "stream",
     "text": [
      "loss  7.804074501991272\n"
     ]
    },
    {
     "name": "stderr",
     "output_type": "stream",
     "text": [
      "  1%|          | 7/1000 [00:02<05:01,  3.29it/s]\n"
     ]
    },
    {
     "ename": "KeyboardInterrupt",
     "evalue": "",
     "output_type": "error",
     "traceback": [
      "\u001b[1;31m---------------------------------------------------------------------------\u001b[0m",
      "\u001b[1;31mKeyboardInterrupt\u001b[0m                         Traceback (most recent call last)",
      "\u001b[1;32mc:\\Users\\e020199\\Desktop\\projects\\git_code\\notebooks\\train_models.ipynb Cell 22\u001b[0m line \u001b[0;36m<cell line: 1>\u001b[1;34m()\u001b[0m\n\u001b[1;32m----> <a href='vscode-notebook-cell:/c%3A/Users/e020199/Desktop/projects/git_code/notebooks/train_models.ipynb#X62sZmlsZQ%3D%3D?line=0'>1</a>\u001b[0m train_models(\u001b[39m\"\u001b[39;49m\u001b[39mMarginal VAE\u001b[39;49m\u001b[39m\"\u001b[39;49m,batch_size \u001b[39m=\u001b[39;49m \u001b[39m1024\u001b[39;49m, epochs\u001b[39m=\u001b[39;49m\u001b[39m1000\u001b[39;49m,is_cylinder\u001b[39m=\u001b[39;49m\u001b[39mFalse\u001b[39;49;00m,with_scheduler\u001b[39m=\u001b[39;49m\u001b[39mTrue\u001b[39;49;00m,verbose\u001b[39m=\u001b[39;49m\u001b[39mTrue\u001b[39;49;00m)\n",
      "\u001b[1;32mc:\\Users\\e020199\\Desktop\\projects\\git_code\\notebooks\\train_models.ipynb Cell 22\u001b[0m line \u001b[0;36mtrain_models\u001b[1;34m(model_type, n, batch_size, epochs, lr, is_cylinder, verbose, with_scheduler, with_early_stopper, with_validation)\u001b[0m\n\u001b[0;32m     <a href='vscode-notebook-cell:/c%3A/Users/e020199/Desktop/projects/git_code/notebooks/train_models.ipynb#X62sZmlsZQ%3D%3D?line=58'>59</a>\u001b[0m     model\u001b[39m.\u001b[39mtrain(epochs, train_dataloader, device, optim_g, optim_d)\n\u001b[0;32m     <a href='vscode-notebook-cell:/c%3A/Users/e020199/Desktop/projects/git_code/notebooks/train_models.ipynb#X62sZmlsZQ%3D%3D?line=59'>60</a>\u001b[0m \u001b[39melse\u001b[39;00m:\n\u001b[1;32m---> <a href='vscode-notebook-cell:/c%3A/Users/e020199/Desktop/projects/git_code/notebooks/train_models.ipynb#X62sZmlsZQ%3D%3D?line=60'>61</a>\u001b[0m     model\u001b[39m.\u001b[39;49mtrain(epochs, train_dataloader, device, optimizer,scheduler,early_stopper,val_dataloader,verbose\u001b[39m=\u001b[39;49mverbose)\n\u001b[0;32m     <a href='vscode-notebook-cell:/c%3A/Users/e020199/Desktop/projects/git_code/notebooks/train_models.ipynb#X62sZmlsZQ%3D%3D?line=62'>63</a>\u001b[0m save_path \u001b[39m=\u001b[39m models_repos[model_type]\n\u001b[0;32m     <a href='vscode-notebook-cell:/c%3A/Users/e020199/Desktop/projects/git_code/notebooks/train_models.ipynb#X62sZmlsZQ%3D%3D?line=64'>65</a>\u001b[0m \u001b[39mif\u001b[39;00m model_type \u001b[39m==\u001b[39m \u001b[39m\"\u001b[39m\u001b[39mMarginal VAE\u001b[39m\u001b[39m\"\u001b[39m:\n",
      "File \u001b[1;32mc:\\Users\\e020199\\Desktop\\projects\\git_code\\src\\models\\marginals\\vae.py:107\u001b[0m, in \u001b[0;36mVAE.train\u001b[1;34m(self, epochs, train_dataloader, device, optimizer, scheduler, early_stopper, val_dataloader, verbose)\u001b[0m\n\u001b[0;32m    105\u001b[0m loss,_,_ \u001b[39m=\u001b[39m all_losses\n\u001b[0;32m    106\u001b[0m optimizer\u001b[39m.\u001b[39mzero_grad()\n\u001b[1;32m--> 107\u001b[0m loss\u001b[39m.\u001b[39;49mbackward()\n\u001b[0;32m    108\u001b[0m optimizer\u001b[39m.\u001b[39mstep()\n\u001b[0;32m    109\u001b[0m epoch_losses\u001b[39m.\u001b[39mappend(loss\u001b[39m.\u001b[39mitem())\n",
      "File \u001b[1;32mc:\\Bib\\envs\\gnn_mmvae\\lib\\site-packages\\torch\\_tensor.py:396\u001b[0m, in \u001b[0;36mTensor.backward\u001b[1;34m(self, gradient, retain_graph, create_graph, inputs)\u001b[0m\n\u001b[0;32m    387\u001b[0m \u001b[39mif\u001b[39;00m has_torch_function_unary(\u001b[39mself\u001b[39m):\n\u001b[0;32m    388\u001b[0m     \u001b[39mreturn\u001b[39;00m handle_torch_function(\n\u001b[0;32m    389\u001b[0m         Tensor\u001b[39m.\u001b[39mbackward,\n\u001b[0;32m    390\u001b[0m         (\u001b[39mself\u001b[39m,),\n\u001b[1;32m   (...)\u001b[0m\n\u001b[0;32m    394\u001b[0m         create_graph\u001b[39m=\u001b[39mcreate_graph,\n\u001b[0;32m    395\u001b[0m         inputs\u001b[39m=\u001b[39minputs)\n\u001b[1;32m--> 396\u001b[0m torch\u001b[39m.\u001b[39;49mautograd\u001b[39m.\u001b[39;49mbackward(\u001b[39mself\u001b[39;49m, gradient, retain_graph, create_graph, inputs\u001b[39m=\u001b[39;49minputs)\n",
      "File \u001b[1;32mc:\\Bib\\envs\\gnn_mmvae\\lib\\site-packages\\torch\\autograd\\__init__.py:173\u001b[0m, in \u001b[0;36mbackward\u001b[1;34m(tensors, grad_tensors, retain_graph, create_graph, grad_variables, inputs)\u001b[0m\n\u001b[0;32m    168\u001b[0m     retain_graph \u001b[39m=\u001b[39m create_graph\n\u001b[0;32m    170\u001b[0m \u001b[39m# The reason we repeat same the comment below is that\u001b[39;00m\n\u001b[0;32m    171\u001b[0m \u001b[39m# some Python versions print out the first line of a multi-line function\u001b[39;00m\n\u001b[0;32m    172\u001b[0m \u001b[39m# calls in the traceback and some print out the last line\u001b[39;00m\n\u001b[1;32m--> 173\u001b[0m Variable\u001b[39m.\u001b[39;49m_execution_engine\u001b[39m.\u001b[39;49mrun_backward(  \u001b[39m# Calls into the C++ engine to run the backward pass\u001b[39;49;00m\n\u001b[0;32m    174\u001b[0m     tensors, grad_tensors_, retain_graph, create_graph, inputs,\n\u001b[0;32m    175\u001b[0m     allow_unreachable\u001b[39m=\u001b[39;49m\u001b[39mTrue\u001b[39;49;00m, accumulate_grad\u001b[39m=\u001b[39;49m\u001b[39mTrue\u001b[39;49;00m)\n",
      "\u001b[1;31mKeyboardInterrupt\u001b[0m: "
     ]
    }
   ],
   "source": [
    "train_models(\"Marginal VAE\",batch_size = 1024, epochs=1000,is_cylinder=False,with_scheduler=True,verbose=True)"
   ]
  },
  {
   "cell_type": "markdown",
   "id": "8bcf3226",
   "metadata": {},
   "source": [
    "Cylinder VAE"
   ]
  },
  {
   "cell_type": "code",
   "execution_count": null,
   "id": "22273881-a78e-4214-bcb2-68bdd4b81380",
   "metadata": {},
   "outputs": [],
   "source": [
    "train_models(\"Marginal VAE\",batch_size = 1024, epochs=1000,is_cylinder=True,with_scheduler=True,verbose=True)"
   ]
  }
 ],
 "metadata": {
  "kernelspec": {
   "display_name": "Python 3 (ipykernel)",
   "language": "python",
   "name": "python3"
  },
  "language_info": {
   "codemirror_mode": {
    "name": "ipython",
    "version": 3
   },
   "file_extension": ".py",
   "mimetype": "text/x-python",
   "name": "python",
   "nbconvert_exporter": "python",
   "pygments_lexer": "ipython3",
   "version": "3.10.9"
  }
 },
 "nbformat": 4,
 "nbformat_minor": 5
}
